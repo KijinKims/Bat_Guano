{
 "cells": [
  {
   "cell_type": "markdown",
   "id": "ecfef266-d21b-4f30-adf7-828db2bbf6ee",
   "metadata": {},
   "source": [
    "## 240214\n",
    "### Myotis COI gene sequences comparison  \n",
    "- from sintax database, extracted myotis COI gene  \n",
    "- using [mafft](https://mafft.cbrc.jp/), identified primer targeting region within Folmer  \n",
    "- extracted sequences of such region only, and generated phylogenetic tree\n",
    "- at both bats and general primer regions, evotis and lucifugus are very simliar to each other\n",
    "- for coi rubbmark region BLAST, used randomly picked individual sequence because of truncated representative sequence\n",
    "\n",
    "### visualization using data with Genearl primer for primer comparisons\n",
    "- generated figures from general primer data analysis results\n",
    "- general prime can be a surrogate for bats primer, but not for insect primer"
   ]
  },
  {
   "cell_type": "markdown",
   "id": "1153e686-4146-4b44-acac-8699b6c5ef72",
   "metadata": {
    "tags": []
   },
   "source": [
    "## 240207\n",
    "- folder structure organized and this lab note spawned"
   ]
  },
  {
   "cell_type": "markdown",
   "id": "dea947c4-23b8-4035-b248-1fdca1b6199b",
   "metadata": {
    "tags": []
   },
   "source": [
    "## What's so far\n",
    "- Analysis with previous workflow\n",
    "\n",
    "- Modification to the workflow\n",
    "\n",
    "- Illumina sequencing data troubleshooting"
   ]
  }
 ],
 "metadata": {
  "kernelspec": {
   "display_name": "Python 3 (ipykernel)",
   "language": "python",
   "name": "python3"
  },
  "language_info": {
   "codemirror_mode": {
    "name": "ipython",
    "version": 3
   },
   "file_extension": ".py",
   "mimetype": "text/x-python",
   "name": "python",
   "nbconvert_exporter": "python",
   "pygments_lexer": "ipython3",
   "version": "3.9.7"
  }
 },
 "nbformat": 4,
 "nbformat_minor": 5
}
