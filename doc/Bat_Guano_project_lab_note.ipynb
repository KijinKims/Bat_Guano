{
 "cells": [
  {
   "cell_type": "markdown",
   "id": "20d4a8d1-6a9a-4190-9123-5976a544dd2b",
   "metadata": {},
   "source": [
    "## 240221\n",
    "### Insect species classification analysis\n",
    "- extract insects species list from the given report\n",
    "- generated bar plot that shows if the species in the list or not\n",
    "- it didn't work well. I mean, most of species were not in the list\n",
    "- additionally, extracted the list from [BC Species & Ecosystems Explorer](https://a100.gov.bc.ca/pub/eswp/search.do;jsessionid=21D987AC0DD38DA8F8EECE884B0585FD)\n",
    "- looks even more species are overlapping, but not majority in some samples\n",
    "- try to compare the results with BLAST results. found the tool for automation\n",
    "- unpublished python script [Assign-Taxonomy-with-BLAST](https://github.com/Joseph7e/Assign-Taxonomy-with-BLAST)\n",
    "- generated BLAST DB from the same sintax DB\n",
    "- will try first with bats species for validation"
   ]
  },
  {
   "cell_type": "markdown",
   "id": "4791fa4c-cbee-4957-baf2-c4ff88c4fa92",
   "metadata": {},
   "source": [
    "## 240220\n",
    "### Weblogo generation\n",
    "- extract evotis and lucifugus coi genes\n",
    "- generate MSA for each using mafft\n",
    "- generate weblogo from each MSA\n",
    "\n",
    "### Insect species classification analysis\n",
    "- use 0,0.2,0.4,0.6 as confidence score for classifications"
   ]
  },
  {
   "cell_type": "markdown",
   "id": "ecfef266-d21b-4f30-adf7-828db2bbf6ee",
   "metadata": {},
   "source": [
    "## 240214\n",
    "### Myotis COI gene sequences comparison  \n",
    "- from sintax database, extracted myotis COI gene  \n",
    "- using [mafft](https://mafft.cbrc.jp/), identified primer targeting region within Folmer  \n",
    "- extracted sequences of such region only, and generated phylogenetic tree\n",
    "- at both bats and general primer regions, evotis and lucifugus are very simliar to each other\n",
    "- for coi rubbmark region BLAST, used randomly picked individual sequence because of truncated representative sequence\n",
    "\n",
    "### visualization using data with Genearl primer for primer comparisons\n",
    "- generated figures from general primer data analysis results\n",
    "- general prime can be a surrogate for bats primer, but not for insect primer"
   ]
  },
  {
   "cell_type": "markdown",
   "id": "1153e686-4146-4b44-acac-8699b6c5ef72",
   "metadata": {
    "tags": []
   },
   "source": [
    "## 240207\n",
    "- folder structure organized and this lab note spawned"
   ]
  },
  {
   "cell_type": "markdown",
   "id": "dea947c4-23b8-4035-b248-1fdca1b6199b",
   "metadata": {
    "tags": []
   },
   "source": [
    "## What's so far\n",
    "- Analysis with previous workflow\n",
    "\n",
    "- Modification to the workflow\n",
    "\n",
    "- Illumina sequencing data troubleshooting"
   ]
  }
 ],
 "metadata": {
  "kernelspec": {
   "display_name": "Python 3 (ipykernel)",
   "language": "python",
   "name": "python3"
  },
  "language_info": {
   "codemirror_mode": {
    "name": "ipython",
    "version": 3
   },
   "file_extension": ".py",
   "mimetype": "text/x-python",
   "name": "python",
   "nbconvert_exporter": "python",
   "pygments_lexer": "ipython3",
   "version": "3.9.7"
  }
 },
 "nbformat": 4,
 "nbformat_minor": 5
}
